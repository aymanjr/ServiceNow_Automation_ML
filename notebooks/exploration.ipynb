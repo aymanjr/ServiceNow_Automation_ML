{
 "cells": [
  {
   "cell_type": "code",
   "execution_count": 7,
   "id": "adba8fc7",
   "metadata": {},
   "outputs": [],
   "source": [
    "import pandas as pd\n",
    "df = pd.read_excel('D:/Projects/Servicenow-automation/data/labeled_tickets.xlsm', sheet_name='ALL')\n",
    "df.to_csv('D:/Projects/Servicenow-automation/data/labeled_tickets.csv', index=False)"
   ]
  },
  {
   "cell_type": "code",
   "execution_count": null,
   "id": "e1aafd0e",
   "metadata": {},
   "outputs": [],
   "source": []
  }
 ],
 "metadata": {
  "kernelspec": {
   "display_name": "servicetag",
   "language": "python",
   "name": "python3"
  },
  "language_info": {
   "codemirror_mode": {
    "name": "ipython",
    "version": 3
   },
   "file_extension": ".py",
   "mimetype": "text/x-python",
   "name": "python",
   "nbconvert_exporter": "python",
   "pygments_lexer": "ipython3",
   "version": "3.12.5"
  }
 },
 "nbformat": 4,
 "nbformat_minor": 5
}
